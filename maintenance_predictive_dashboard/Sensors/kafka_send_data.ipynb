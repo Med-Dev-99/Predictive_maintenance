{
 "cells": [
  {
   "cell_type": "code",
   "execution_count": null,
   "metadata": {},
   "outputs": [],
   "source": [
    "from kafka import KafkaProducer\n",
    "import json\n",
    "from json import dumps\n",
    "import time\n",
    "\n",
    "def json_serializer(data):\n",
    "    return json.dumps(data).encode(\"utf-8\")\n",
    "\n",
    "Mybroker= '127.0.0.1:9092'\n",
    "producer = KafkaProducer(\n",
    "            bootstrap_servers='127.0.0.1:9092', value_serializer=lambda x: dumps(x).encode('utf-8'))\n",
    "f = open('machine_details')\n",
    "\n",
    "# returns JSON object as\n",
    "# a dictionary\n",
    "data = json.load(f)\n",
    "\n",
    "# Iterating through the json\n",
    "# list\n",
    "topic=\"Machine_Data\"\n",
    "for i in data:\n",
    "    print(data[i])\n",
    "    producer.send(topic, value=data[i])\n",
    "    time.sleep(4)\n",
    "    producer.flush()\n",
    "    ##for j in data [i]:\n",
    "\n",
    "        ##time.sleep(4)\n",
    "        ##producer.flush()\n",
    "        ##print(j)\n",
    "\n",
    "# Closing file\n",
    "\n",
    "##print(data)\n",
    "f.close()\n"
   ]
  }
 ],
 "metadata": {
  "kernelspec": {
   "display_name": "Python 3",
   "language": "python",
   "name": "python3"
  },
  "language_info": {
   "name": "python",
   "version": "3.10.7 (main, Oct 14 2022, 20:13:30) [Clang 14.0.0 (clang-1400.0.29.102)]"
  },
  "orig_nbformat": 4,
  "vscode": {
   "interpreter": {
    "hash": "9cf29104c396dfeda137d2d27ffc0d7f075cbcf9ce74b2e0b7cf6b08965cd798"
   }
  }
 },
 "nbformat": 4,
 "nbformat_minor": 2
}
