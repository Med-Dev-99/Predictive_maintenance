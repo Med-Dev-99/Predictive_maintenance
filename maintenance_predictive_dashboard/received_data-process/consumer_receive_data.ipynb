{
 "cells": [
  {
   "cell_type": "code",
   "execution_count": null,
   "metadata": {},
   "outputs": [],
   "source": [
    "\n",
    "import pymongo\n",
    "client = pymongo.MongoClient(\"mongodb://<username>:<password>@ac-fpwcfpu-shard-00-00.dbyavcr.mongodb.net:27017,ac-fpwcfpu-shard-00-01.dbyavcr.mongodb.net:27017,ac-fpwcfpu-shard-00-02.dbyavcr.mongodb.net:27017/?ssl=true&replicaSet=atlas-hm9440-shard-0&authSource=admin&retryWrites=true&w=majority\")\n",
    "db = client.predictive_maintenance\n",
    "\n",
    "Sensors_data = db.Sensors_data"
   ]
  },
  {
   "cell_type": "code",
   "execution_count": null,
   "metadata": {},
   "outputs": [],
   "source": [
    "from kafka import KafkaConsumer\n",
    "from pymongo import MongoClient\n",
    "from json import loads\n",
    "import pandas as pd\n",
    "import asyncio\n",
    "async def receive_data() :\n",
    "    consumer = KafkaConsumer(\n",
    "    'machine_details',\n",
    "     bootstrap_servers=['localhost:9092'],\n",
    "     auto_offset_reset='earliest',\n",
    "     enable_auto_commit=True,\n",
    "    # group_id='IotData',\n",
    "     value_deserializer=lambda x: loads(x.decode('utf-8')))\n",
    "\n",
    "\n",
    "    df = pd.DataFrame()\n",
    "    for message in consumer:\n",
    "        data =await message.value\n",
    "        df_iter =await pd.json_normalize(data)\n",
    "        df =await df.append(df_iter)\n",
    "        ##send received data from consumer(sensors) to mongodb atlas predictive_maintenance database\n",
    "        await Sensors_data.insert_one(message.value)"
   ]
  }
 ],
 "metadata": {
  "kernelspec": {
   "display_name": "Python 3",
   "language": "python",
   "name": "python3"
  },
  "language_info": {
   "codemirror_mode": {
    "name": "ipython",
    "version": 3
   },
   "file_extension": ".py",
   "mimetype": "text/x-python",
   "name": "python",
   "nbconvert_exporter": "python",
   "pygments_lexer": "ipython3",
   "version": "3.10.7 (main, Oct 14 2022, 20:13:30) [Clang 14.0.0 (clang-1400.0.29.102)]"
  },
  "orig_nbformat": 4,
  "vscode": {
   "interpreter": {
    "hash": "9cf29104c396dfeda137d2d27ffc0d7f075cbcf9ce74b2e0b7cf6b08965cd798"
   }
  }
 },
 "nbformat": 4,
 "nbformat_minor": 2
}
